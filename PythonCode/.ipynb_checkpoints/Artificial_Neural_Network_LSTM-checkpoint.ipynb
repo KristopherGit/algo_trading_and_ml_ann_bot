{
 "cells": [
  {
   "cell_type": "markdown",
   "id": "106b19e3-7f0a-4897-884a-9918feb5a838",
   "metadata": {},
   "source": [
    "# Keras Sequential LSTM ANN for Market Trading"
   ]
  },
  {
   "cell_type": "markdown",
   "id": "8391fcf4-4ac4-4ebc-950c-4ce3e5e30a68",
   "metadata": {},
   "source": [
    "## <i> i.) Import Libraries and Dependencies </i>"
   ]
  },
  {
   "cell_type": "code",
   "execution_count": 1,
   "id": "f15adc14-d08e-4a9e-b837-ae97fe9c8b94",
   "metadata": {},
   "outputs": [],
   "source": [
    "# Import libraries and dependencies\n",
    "import pandas as pd\n",
    "import numpy as np\n",
    "import pandas_ta as ta\n",
    "\n",
    "from matplotlib import pyplot as plt\n",
    "from pathlib import Path\n",
    "import os\n",
    "import re"
   ]
  },
  {
   "cell_type": "code",
   "execution_count": 2,
   "id": "18e361ee-9616-43a8-ab6f-8901c8d736d0",
   "metadata": {},
   "outputs": [
    {
     "name": "stderr",
     "output_type": "stream",
     "text": [
      "2022-12-05 18:20:51.520503: I tensorflow/core/platform/cpu_feature_guard.cc:193] This TensorFlow binary is optimized with oneAPI Deep Neural Network Library (oneDNN) to use the following CPU instructions in performance-critical operations:  AVX2 FMA\n",
      "To enable them in other operations, rebuild TensorFlow with the appropriate compiler flags.\n"
     ]
    }
   ],
   "source": [
    "# Import Keras ANN Modeling Libraries & Sklearn Preprocessing Modules\n",
    "from keras.models import Sequential, Model\n",
    "from keras.layers import LSTM\n",
    "from keras.layers import Dense, Activation, Dropout\n",
    "from sklearn.preprocessing import MinMaxScaler\n",
    "from pandas.tseries.offsets import DateOffset\n",
    "\n",
    "# Import Keras ANN Dropout & Regularizer Build Processing Modules\n",
    "# Import dropout\n",
    "from keras.layers import Dropout\n",
    "# Import regularizers\n",
    "from keras.regularizers import l1, l2"
   ]
  },
  {
   "cell_type": "markdown",
   "id": "ee710fb3-aecb-462e-9454-36a74d4ff285",
   "metadata": {},
   "source": [
    "## <i> ii.) Prepare the DataFrames </i>"
   ]
  },
  {
   "cell_type": "code",
   "execution_count": 3,
   "id": "10df8eb1-fdd3-4dce-9266-8bd2dc2bcbb0",
   "metadata": {},
   "outputs": [
    {
     "data": {
      "text/plain": [
       "'algoData_S&P500.csv'"
      ]
     },
     "metadata": {},
     "output_type": "display_data"
    },
    {
     "data": {
      "text/plain": [
       "'../Datasets'"
      ]
     },
     "metadata": {},
     "output_type": "display_data"
    },
    {
     "data": {
      "text/plain": [
       "('../Datasets/algoData_S&P500', '.csv')"
      ]
     },
     "metadata": {},
     "output_type": "display_data"
    },
    {
     "data": {
      "text/plain": [
       "('algoData_S&P500', '.csv')"
      ]
     },
     "metadata": {},
     "output_type": "display_data"
    },
    {
     "name": "stdout",
     "output_type": "stream",
     "text": [
      "S&P500\n"
     ]
    }
   ],
   "source": [
    "# Get filename from dir and store as 'algoData_asset' for each individual asset file to use later in labelling/filenaming\n",
    "filename = Path(\"../Datasets/algoData_S&P500.csv\")\n",
    "\n",
    "display(os.path.basename(filename))\n",
    "display(os.path.dirname(filename))\n",
    "display(os.path.splitext(filename))\n",
    "display(os.path.splitext(os.path.basename(filename)))\n",
    "algoData_asset = os.path.splitext(os.path.basename(filename))\n",
    "algoData_asset = algoData_asset[0] \n",
    "algoData_asset = algoData_asset.split('_')\n",
    "algoData_asset = algoData_asset[1]\n",
    "print(algoData_asset)\n",
    "\n",
    "#print(os.path.splitext(filename))"
   ]
  },
  {
   "cell_type": "code",
   "execution_count": 4,
   "id": "4de0d9b0-262a-455c-bb96-680f97db5fec",
   "metadata": {},
   "outputs": [
    {
     "data": {
      "text/plain": [
       "str"
      ]
     },
     "execution_count": 4,
     "metadata": {},
     "output_type": "execute_result"
    }
   ],
   "source": [
    "# Confirm algoData_asset is type(str)\n",
    "type(algoData_asset)"
   ]
  },
  {
   "cell_type": "code",
   "execution_count": 5,
   "id": "92ef5a30-77f6-41a7-8927-b830756cdadf",
   "metadata": {},
   "outputs": [
    {
     "data": {
      "text/html": [
       "<div>\n",
       "<style scoped>\n",
       "    .dataframe tbody tr th:only-of-type {\n",
       "        vertical-align: middle;\n",
       "    }\n",
       "\n",
       "    .dataframe tbody tr th {\n",
       "        vertical-align: top;\n",
       "    }\n",
       "\n",
       "    .dataframe thead th {\n",
       "        text-align: right;\n",
       "    }\n",
       "</style>\n",
       "<table border=\"1\" class=\"dataframe\">\n",
       "  <thead>\n",
       "    <tr style=\"text-align: right;\">\n",
       "      <th></th>\n",
       "      <th>Ticker</th>\n",
       "      <th>Date.1</th>\n",
       "      <th>Open</th>\n",
       "      <th>High</th>\n",
       "      <th>Low</th>\n",
       "      <th>Close</th>\n",
       "      <th>Volume</th>\n",
       "      <th>ActualReturns</th>\n",
       "      <th>Signal</th>\n",
       "      <th>EMAShort</th>\n",
       "      <th>...</th>\n",
       "      <th>MOMline_normal</th>\n",
       "      <th>ROCline_normal</th>\n",
       "      <th>SMAline_normal</th>\n",
       "      <th>lowerBB_normal</th>\n",
       "      <th>middleBB_normal</th>\n",
       "      <th>upperBB_normal</th>\n",
       "      <th>2stdBB_normal</th>\n",
       "      <th>MACDline_normal</th>\n",
       "      <th>MACDHistogram_normal</th>\n",
       "      <th>MACDSignal_normal</th>\n",
       "    </tr>\n",
       "    <tr>\n",
       "      <th>Date</th>\n",
       "      <th></th>\n",
       "      <th></th>\n",
       "      <th></th>\n",
       "      <th></th>\n",
       "      <th></th>\n",
       "      <th></th>\n",
       "      <th></th>\n",
       "      <th></th>\n",
       "      <th></th>\n",
       "      <th></th>\n",
       "      <th></th>\n",
       "      <th></th>\n",
       "      <th></th>\n",
       "      <th></th>\n",
       "      <th></th>\n",
       "      <th></th>\n",
       "      <th></th>\n",
       "      <th></th>\n",
       "      <th></th>\n",
       "      <th></th>\n",
       "      <th></th>\n",
       "    </tr>\n",
       "  </thead>\n",
       "  <tbody>\n",
       "    <tr>\n",
       "      <th>2006-10-23 00:00:00-04:00</th>\n",
       "      <td>S&amp;P500</td>\n",
       "      <td>2006-10-23 00:00:00-04:00</td>\n",
       "      <td>1368.579956</td>\n",
       "      <td>1377.400024</td>\n",
       "      <td>1363.939941</td>\n",
       "      <td>1377.020020</td>\n",
       "      <td>2480430000</td>\n",
       "      <td>0.000261</td>\n",
       "      <td>1.0</td>\n",
       "      <td>1361.879276</td>\n",
       "      <td>...</td>\n",
       "      <td>7.326168</td>\n",
       "      <td>0.808229</td>\n",
       "      <td>2.205601</td>\n",
       "      <td>1.057307</td>\n",
       "      <td>1.026343</td>\n",
       "      <td>0.997142</td>\n",
       "      <td>0.004253</td>\n",
       "      <td>14.443024</td>\n",
       "      <td>0.524587</td>\n",
       "      <td>13.918438</td>\n",
       "    </tr>\n",
       "    <tr>\n",
       "      <th>2006-10-24 00:00:00-04:00</th>\n",
       "      <td>S&amp;P500</td>\n",
       "      <td>2006-10-24 00:00:00-04:00</td>\n",
       "      <td>1377.020020</td>\n",
       "      <td>1377.780029</td>\n",
       "      <td>1372.420044</td>\n",
       "      <td>1377.380005</td>\n",
       "      <td>2876890000</td>\n",
       "      <td>0.003514</td>\n",
       "      <td>1.0</td>\n",
       "      <td>1364.264003</td>\n",
       "      <td>...</td>\n",
       "      <td>4.586124</td>\n",
       "      <td>0.648913</td>\n",
       "      <td>2.183401</td>\n",
       "      <td>1.056273</td>\n",
       "      <td>1.024972</td>\n",
       "      <td>0.995474</td>\n",
       "      <td>0.004303</td>\n",
       "      <td>14.609685</td>\n",
       "      <td>0.552998</td>\n",
       "      <td>14.056687</td>\n",
       "    </tr>\n",
       "    <tr>\n",
       "      <th>2006-10-25 00:00:00-04:00</th>\n",
       "      <td>S&amp;P500</td>\n",
       "      <td>2006-10-25 00:00:00-04:00</td>\n",
       "      <td>1377.359985</td>\n",
       "      <td>1383.609985</td>\n",
       "      <td>1376.000000</td>\n",
       "      <td>1382.219971</td>\n",
       "      <td>2953540000</td>\n",
       "      <td>0.004963</td>\n",
       "      <td>1.0</td>\n",
       "      <td>1367.026460</td>\n",
       "      <td>...</td>\n",
       "      <td>4.767735</td>\n",
       "      <td>0.564316</td>\n",
       "      <td>1.932800</td>\n",
       "      <td>1.059152</td>\n",
       "      <td>1.026940</td>\n",
       "      <td>0.996630</td>\n",
       "      <td>0.004401</td>\n",
       "      <td>14.959862</td>\n",
       "      <td>0.722540</td>\n",
       "      <td>14.237322</td>\n",
       "    </tr>\n",
       "  </tbody>\n",
       "</table>\n",
       "<p>3 rows × 48 columns</p>\n",
       "</div>"
      ],
      "text/plain": [
       "                           Ticker                     Date.1         Open  \\\n",
       "Date                                                                        \n",
       "2006-10-23 00:00:00-04:00  S&P500  2006-10-23 00:00:00-04:00  1368.579956   \n",
       "2006-10-24 00:00:00-04:00  S&P500  2006-10-24 00:00:00-04:00  1377.020020   \n",
       "2006-10-25 00:00:00-04:00  S&P500  2006-10-25 00:00:00-04:00  1377.359985   \n",
       "\n",
       "                                  High          Low        Close      Volume  \\\n",
       "Date                                                                           \n",
       "2006-10-23 00:00:00-04:00  1377.400024  1363.939941  1377.020020  2480430000   \n",
       "2006-10-24 00:00:00-04:00  1377.780029  1372.420044  1377.380005  2876890000   \n",
       "2006-10-25 00:00:00-04:00  1383.609985  1376.000000  1382.219971  2953540000   \n",
       "\n",
       "                           ActualReturns  Signal     EMAShort  ...  \\\n",
       "Date                                                           ...   \n",
       "2006-10-23 00:00:00-04:00       0.000261     1.0  1361.879276  ...   \n",
       "2006-10-24 00:00:00-04:00       0.003514     1.0  1364.264003  ...   \n",
       "2006-10-25 00:00:00-04:00       0.004963     1.0  1367.026460  ...   \n",
       "\n",
       "                           MOMline_normal  ROCline_normal  SMAline_normal  \\\n",
       "Date                                                                        \n",
       "2006-10-23 00:00:00-04:00        7.326168        0.808229        2.205601   \n",
       "2006-10-24 00:00:00-04:00        4.586124        0.648913        2.183401   \n",
       "2006-10-25 00:00:00-04:00        4.767735        0.564316        1.932800   \n",
       "\n",
       "                           lowerBB_normal  middleBB_normal  upperBB_normal  \\\n",
       "Date                                                                         \n",
       "2006-10-23 00:00:00-04:00        1.057307         1.026343        0.997142   \n",
       "2006-10-24 00:00:00-04:00        1.056273         1.024972        0.995474   \n",
       "2006-10-25 00:00:00-04:00        1.059152         1.026940        0.996630   \n",
       "\n",
       "                           2stdBB_normal  MACDline_normal  \\\n",
       "Date                                                        \n",
       "2006-10-23 00:00:00-04:00       0.004253        14.443024   \n",
       "2006-10-24 00:00:00-04:00       0.004303        14.609685   \n",
       "2006-10-25 00:00:00-04:00       0.004401        14.959862   \n",
       "\n",
       "                           MACDHistogram_normal  MACDSignal_normal  \n",
       "Date                                                                \n",
       "2006-10-23 00:00:00-04:00              0.524587          13.918438  \n",
       "2006-10-24 00:00:00-04:00              0.552998          14.056687  \n",
       "2006-10-25 00:00:00-04:00              0.722540          14.237322  \n",
       "\n",
       "[3 rows x 48 columns]"
      ]
     },
     "metadata": {},
     "output_type": "display_data"
    },
    {
     "data": {
      "text/html": [
       "<div>\n",
       "<style scoped>\n",
       "    .dataframe tbody tr th:only-of-type {\n",
       "        vertical-align: middle;\n",
       "    }\n",
       "\n",
       "    .dataframe tbody tr th {\n",
       "        vertical-align: top;\n",
       "    }\n",
       "\n",
       "    .dataframe thead th {\n",
       "        text-align: right;\n",
       "    }\n",
       "</style>\n",
       "<table border=\"1\" class=\"dataframe\">\n",
       "  <thead>\n",
       "    <tr style=\"text-align: right;\">\n",
       "      <th></th>\n",
       "      <th>Ticker</th>\n",
       "      <th>Date.1</th>\n",
       "      <th>Open</th>\n",
       "      <th>High</th>\n",
       "      <th>Low</th>\n",
       "      <th>Close</th>\n",
       "      <th>Volume</th>\n",
       "      <th>ActualReturns</th>\n",
       "      <th>Signal</th>\n",
       "      <th>EMAShort</th>\n",
       "      <th>...</th>\n",
       "      <th>MOMline_normal</th>\n",
       "      <th>ROCline_normal</th>\n",
       "      <th>SMAline_normal</th>\n",
       "      <th>lowerBB_normal</th>\n",
       "      <th>middleBB_normal</th>\n",
       "      <th>upperBB_normal</th>\n",
       "      <th>2stdBB_normal</th>\n",
       "      <th>MACDline_normal</th>\n",
       "      <th>MACDHistogram_normal</th>\n",
       "      <th>MACDSignal_normal</th>\n",
       "    </tr>\n",
       "    <tr>\n",
       "      <th>Date</th>\n",
       "      <th></th>\n",
       "      <th></th>\n",
       "      <th></th>\n",
       "      <th></th>\n",
       "      <th></th>\n",
       "      <th></th>\n",
       "      <th></th>\n",
       "      <th></th>\n",
       "      <th></th>\n",
       "      <th></th>\n",
       "      <th></th>\n",
       "      <th></th>\n",
       "      <th></th>\n",
       "      <th></th>\n",
       "      <th></th>\n",
       "      <th></th>\n",
       "      <th></th>\n",
       "      <th></th>\n",
       "      <th></th>\n",
       "      <th></th>\n",
       "      <th></th>\n",
       "    </tr>\n",
       "  </thead>\n",
       "  <tbody>\n",
       "    <tr>\n",
       "      <th>2022-10-26 00:00:00-04:00</th>\n",
       "      <td>S&amp;P500</td>\n",
       "      <td>2022-10-26 00:00:00-04:00</td>\n",
       "      <td>3825.969971</td>\n",
       "      <td>3886.149902</td>\n",
       "      <td>3824.070068</td>\n",
       "      <td>3830.600098</td>\n",
       "      <td>4817310000</td>\n",
       "      <td>-0.006083</td>\n",
       "      <td>-1.0</td>\n",
       "      <td>3743.064400</td>\n",
       "      <td>...</td>\n",
       "      <td>8.289918</td>\n",
       "      <td>0.484020</td>\n",
       "      <td>-9.492002</td>\n",
       "      <td>1.085286</td>\n",
       "      <td>1.028940</td>\n",
       "      <td>0.978155</td>\n",
       "      <td>0.002711</td>\n",
       "      <td>-9.503818</td>\n",
       "      <td>34.608016</td>\n",
       "      <td>-44.111835</td>\n",
       "    </tr>\n",
       "    <tr>\n",
       "      <th>2022-10-27 00:00:00-04:00</th>\n",
       "      <td>S&amp;P500</td>\n",
       "      <td>2022-10-27 00:00:00-04:00</td>\n",
       "      <td>3834.689941</td>\n",
       "      <td>3859.949951</td>\n",
       "      <td>3803.790039</td>\n",
       "      <td>3807.300049</td>\n",
       "      <td>4687320000</td>\n",
       "      <td>0.024626</td>\n",
       "      <td>1.0</td>\n",
       "      <td>3752.946808</td>\n",
       "      <td>...</td>\n",
       "      <td>16.903382</td>\n",
       "      <td>0.239292</td>\n",
       "      <td>-9.334800</td>\n",
       "      <td>1.076946</td>\n",
       "      <td>1.023543</td>\n",
       "      <td>0.975186</td>\n",
       "      <td>0.002605</td>\n",
       "      <td>-3.675620</td>\n",
       "      <td>32.348971</td>\n",
       "      <td>-36.024592</td>\n",
       "    </tr>\n",
       "    <tr>\n",
       "      <th>2022-10-28 00:00:00-04:00</th>\n",
       "      <td>S&amp;P500</td>\n",
       "      <td>2022-10-28 00:00:00-04:00</td>\n",
       "      <td>3808.260010</td>\n",
       "      <td>3905.419922</td>\n",
       "      <td>3808.260010</td>\n",
       "      <td>3901.060059</td>\n",
       "      <td>4459410000</td>\n",
       "      <td>-0.007454</td>\n",
       "      <td>-1.0</td>\n",
       "      <td>3775.733462</td>\n",
       "      <td>...</td>\n",
       "      <td>28.599808</td>\n",
       "      <td>0.709188</td>\n",
       "      <td>-7.653604</td>\n",
       "      <td>1.104215</td>\n",
       "      <td>1.048489</td>\n",
       "      <td>0.998117</td>\n",
       "      <td>0.002587</td>\n",
       "      <td>8.411950</td>\n",
       "      <td>35.549233</td>\n",
       "      <td>-27.137283</td>\n",
       "    </tr>\n",
       "  </tbody>\n",
       "</table>\n",
       "<p>3 rows × 48 columns</p>\n",
       "</div>"
      ],
      "text/plain": [
       "                           Ticker                     Date.1         Open  \\\n",
       "Date                                                                        \n",
       "2022-10-26 00:00:00-04:00  S&P500  2022-10-26 00:00:00-04:00  3825.969971   \n",
       "2022-10-27 00:00:00-04:00  S&P500  2022-10-27 00:00:00-04:00  3834.689941   \n",
       "2022-10-28 00:00:00-04:00  S&P500  2022-10-28 00:00:00-04:00  3808.260010   \n",
       "\n",
       "                                  High          Low        Close      Volume  \\\n",
       "Date                                                                           \n",
       "2022-10-26 00:00:00-04:00  3886.149902  3824.070068  3830.600098  4817310000   \n",
       "2022-10-27 00:00:00-04:00  3859.949951  3803.790039  3807.300049  4687320000   \n",
       "2022-10-28 00:00:00-04:00  3905.419922  3808.260010  3901.060059  4459410000   \n",
       "\n",
       "                           ActualReturns  Signal     EMAShort  ...  \\\n",
       "Date                                                           ...   \n",
       "2022-10-26 00:00:00-04:00      -0.006083    -1.0  3743.064400  ...   \n",
       "2022-10-27 00:00:00-04:00       0.024626     1.0  3752.946808  ...   \n",
       "2022-10-28 00:00:00-04:00      -0.007454    -1.0  3775.733462  ...   \n",
       "\n",
       "                           MOMline_normal  ROCline_normal  SMAline_normal  \\\n",
       "Date                                                                        \n",
       "2022-10-26 00:00:00-04:00        8.289918        0.484020       -9.492002   \n",
       "2022-10-27 00:00:00-04:00       16.903382        0.239292       -9.334800   \n",
       "2022-10-28 00:00:00-04:00       28.599808        0.709188       -7.653604   \n",
       "\n",
       "                           lowerBB_normal  middleBB_normal  upperBB_normal  \\\n",
       "Date                                                                         \n",
       "2022-10-26 00:00:00-04:00        1.085286         1.028940        0.978155   \n",
       "2022-10-27 00:00:00-04:00        1.076946         1.023543        0.975186   \n",
       "2022-10-28 00:00:00-04:00        1.104215         1.048489        0.998117   \n",
       "\n",
       "                           2stdBB_normal  MACDline_normal  \\\n",
       "Date                                                        \n",
       "2022-10-26 00:00:00-04:00       0.002711        -9.503818   \n",
       "2022-10-27 00:00:00-04:00       0.002605        -3.675620   \n",
       "2022-10-28 00:00:00-04:00       0.002587         8.411950   \n",
       "\n",
       "                           MACDHistogram_normal  MACDSignal_normal  \n",
       "Date                                                                \n",
       "2022-10-26 00:00:00-04:00             34.608016         -44.111835  \n",
       "2022-10-27 00:00:00-04:00             32.348971         -36.024592  \n",
       "2022-10-28 00:00:00-04:00             35.549233         -27.137283  \n",
       "\n",
       "[3 rows x 48 columns]"
      ]
     },
     "metadata": {},
     "output_type": "display_data"
    }
   ],
   "source": [
    "#Import .csv file as dataframe and shift 'ActualReturns' column forward .shift() \n",
    "#to re-align to neutral (as the 'Signal' column and 'ActualReturns' are both shifted backed (.shift(-1)) in the raw .csv file\n",
    "\n",
    "# Import filename & conver to dataframe\n",
    "df = pd.read_csv(filename, \n",
    "                index_col='Date', \n",
    "                parse_dates=True,\n",
    "                infer_datetime_format=True)\n",
    "display(df.head(3))\n",
    "display(df.tail(3))\n",
    "\n",
    "# Create empty dataframe for 'ActualReturns' column and shift(+1) to realign to neutral timeseries index position\n",
    "actual_returns_shift_df = pd.DataFrame()\n",
    "actual_returns_shift_df['Norm Actual Returns'] = df['ActualReturns'].shift()"
   ]
  },
  {
   "cell_type": "code",
   "execution_count": 6,
   "id": "c603035a-68b1-44e8-8f63-2a8dcba2ef24",
   "metadata": {},
   "outputs": [],
   "source": [
    "actual_returns_shift_df = actual_returns_shift_df.dropna()"
   ]
  },
  {
   "cell_type": "code",
   "execution_count": 7,
   "id": "ced91c2f-334e-4738-9ca1-3a1efc573181",
   "metadata": {},
   "outputs": [
    {
     "data": {
      "text/html": [
       "<div>\n",
       "<style scoped>\n",
       "    .dataframe tbody tr th:only-of-type {\n",
       "        vertical-align: middle;\n",
       "    }\n",
       "\n",
       "    .dataframe tbody tr th {\n",
       "        vertical-align: top;\n",
       "    }\n",
       "\n",
       "    .dataframe thead th {\n",
       "        text-align: right;\n",
       "    }\n",
       "</style>\n",
       "<table border=\"1\" class=\"dataframe\">\n",
       "  <thead>\n",
       "    <tr style=\"text-align: right;\">\n",
       "      <th></th>\n",
       "      <th>Norm Actual Returns</th>\n",
       "    </tr>\n",
       "    <tr>\n",
       "      <th>Date</th>\n",
       "      <th></th>\n",
       "    </tr>\n",
       "  </thead>\n",
       "  <tbody>\n",
       "    <tr>\n",
       "      <th>2006-10-24 00:00:00-04:00</th>\n",
       "      <td>0.000261</td>\n",
       "    </tr>\n",
       "    <tr>\n",
       "      <th>2006-10-25 00:00:00-04:00</th>\n",
       "      <td>0.003514</td>\n",
       "    </tr>\n",
       "    <tr>\n",
       "      <th>2006-10-26 00:00:00-04:00</th>\n",
       "      <td>0.004963</td>\n",
       "    </tr>\n",
       "    <tr>\n",
       "      <th>2006-10-27 00:00:00-04:00</th>\n",
       "      <td>-0.008452</td>\n",
       "    </tr>\n",
       "    <tr>\n",
       "      <th>2006-10-30 00:00:00-05:00</th>\n",
       "      <td>0.000428</td>\n",
       "    </tr>\n",
       "    <tr>\n",
       "      <th>...</th>\n",
       "      <td>...</td>\n",
       "    </tr>\n",
       "    <tr>\n",
       "      <th>2022-10-24 00:00:00-04:00</th>\n",
       "      <td>0.011882</td>\n",
       "    </tr>\n",
       "    <tr>\n",
       "      <th>2022-10-25 00:00:00-04:00</th>\n",
       "      <td>0.016267</td>\n",
       "    </tr>\n",
       "    <tr>\n",
       "      <th>2022-10-26 00:00:00-04:00</th>\n",
       "      <td>-0.007388</td>\n",
       "    </tr>\n",
       "    <tr>\n",
       "      <th>2022-10-27 00:00:00-04:00</th>\n",
       "      <td>-0.006083</td>\n",
       "    </tr>\n",
       "    <tr>\n",
       "      <th>2022-10-28 00:00:00-04:00</th>\n",
       "      <td>0.024626</td>\n",
       "    </tr>\n",
       "  </tbody>\n",
       "</table>\n",
       "<p>4032 rows × 1 columns</p>\n",
       "</div>"
      ],
      "text/plain": [
       "                           Norm Actual Returns\n",
       "Date                                          \n",
       "2006-10-24 00:00:00-04:00             0.000261\n",
       "2006-10-25 00:00:00-04:00             0.003514\n",
       "2006-10-26 00:00:00-04:00             0.004963\n",
       "2006-10-27 00:00:00-04:00            -0.008452\n",
       "2006-10-30 00:00:00-05:00             0.000428\n",
       "...                                        ...\n",
       "2022-10-24 00:00:00-04:00             0.011882\n",
       "2022-10-25 00:00:00-04:00             0.016267\n",
       "2022-10-26 00:00:00-04:00            -0.007388\n",
       "2022-10-27 00:00:00-04:00            -0.006083\n",
       "2022-10-28 00:00:00-04:00             0.024626\n",
       "\n",
       "[4032 rows x 1 columns]"
      ]
     },
     "metadata": {},
     "output_type": "display_data"
    }
   ],
   "source": [
    "display(actual_returns_shift_df)"
   ]
  },
  {
   "cell_type": "code",
   "execution_count": 8,
   "id": "3c4592b1-2335-4483-a3a8-f47cf79a30f0",
   "metadata": {},
   "outputs": [
    {
     "name": "stdout",
     "output_type": "stream",
     "text": [
      "Pretty printing has been turned OFF\n"
     ]
    },
    {
     "data": {
      "text/plain": [
       "['Ticker', 'Date.1', 'Open', 'High', 'Low', 'Close', 'Volume', 'ActualReturns', 'Signal', 'EMAShort', 'EMALong', 'RSIline', 'MOMline', 'ROCline', 'SMAline', 'lowerBB', 'middleBB', 'upperBB', '2stdBB', 'MACDline', 'MACDHistogram', 'MACDSignal', 'EMAShort_zscore', 'EMALong_zscore', 'RSIline_zscore', 'MOMline_zscore', 'ROCline_zscore', 'SMAline_zscore', 'lowerBB_zscore', 'middleBB_zscore', 'upperBB_zscore', '2stdBB_zscore', 'MACDline_zscore', 'MACDHistogram_zscore', 'MACDSignal_zscore', 'EMAShort_normal', 'EMALong_normal', 'RSIline_normal', 'MOMline_normal', 'ROCline_normal', 'SMAline_normal', 'lowerBB_normal', 'middleBB_normal', 'upperBB_normal', '2stdBB_normal', 'MACDline_normal', 'MACDHistogram_normal', 'MACDSignal_normal']"
      ]
     },
     "metadata": {},
     "output_type": "display_data"
    },
    {
     "data": {
      "text/plain": [
       "'Number of unique columns: 48'"
      ]
     },
     "metadata": {},
     "output_type": "display_data"
    }
   ],
   "source": [
    "# Create list for non-normalized columns to be dropped out if required\n",
    "%pprint\n",
    "col_names = list(df.columns.values)\n",
    "display(col_names)\n",
    "display(f\"Number of unique columns: {len(col_names)}\")"
   ]
  },
  {
   "cell_type": "markdown",
   "id": "5a807789-dea0-46df-8c7d-c8af3984451b",
   "metadata": {},
   "source": [
    "## <i> ii.) Split Data into Training & Test Sets for LSTM </i>"
   ]
  },
  {
   "cell_type": "code",
   "execution_count": 11,
   "id": "ed57f388-1952-4d7d-8b87-1ccb2985eb90",
   "metadata": {},
   "outputs": [
    {
     "data": {
      "text/plain": [
       "'Number of included columns in final X-features: 10'"
      ]
     },
     "metadata": {},
     "output_type": "display_data"
    },
    {
     "data": {
      "text/html": [
       "<div>\n",
       "<style scoped>\n",
       "    .dataframe tbody tr th:only-of-type {\n",
       "        vertical-align: middle;\n",
       "    }\n",
       "\n",
       "    .dataframe tbody tr th {\n",
       "        vertical-align: top;\n",
       "    }\n",
       "\n",
       "    .dataframe thead th {\n",
       "        text-align: right;\n",
       "    }\n",
       "</style>\n",
       "<table border=\"1\" class=\"dataframe\">\n",
       "  <thead>\n",
       "    <tr style=\"text-align: right;\">\n",
       "      <th></th>\n",
       "      <th>Open</th>\n",
       "      <th>High</th>\n",
       "      <th>Low</th>\n",
       "      <th>Close</th>\n",
       "      <th>RSIline</th>\n",
       "      <th>EMAShort</th>\n",
       "      <th>EMALong</th>\n",
       "      <th>Target_Diff</th>\n",
       "      <th>Target_Class</th>\n",
       "      <th>Target_Next_Close</th>\n",
       "    </tr>\n",
       "    <tr>\n",
       "      <th>Date</th>\n",
       "      <th></th>\n",
       "      <th></th>\n",
       "      <th></th>\n",
       "      <th></th>\n",
       "      <th></th>\n",
       "      <th></th>\n",
       "      <th></th>\n",
       "      <th></th>\n",
       "      <th></th>\n",
       "      <th></th>\n",
       "    </tr>\n",
       "  </thead>\n",
       "  <tbody>\n",
       "    <tr>\n",
       "      <th>2006-10-24 00:00:00-04:00</th>\n",
       "      <td>1377.020020</td>\n",
       "      <td>1377.780029</td>\n",
       "      <td>1372.420044</td>\n",
       "      <td>1377.380005</td>\n",
       "      <td>75.281252</td>\n",
       "      <td>1364.264003</td>\n",
       "      <td>1349.654434</td>\n",
       "      <td>4.859985</td>\n",
       "      <td>1</td>\n",
       "      <td>1382.219971</td>\n",
       "    </tr>\n",
       "    <tr>\n",
       "      <th>2006-10-25 00:00:00-04:00</th>\n",
       "      <td>1377.359985</td>\n",
       "      <td>1383.609985</td>\n",
       "      <td>1376.000000</td>\n",
       "      <td>1382.219971</td>\n",
       "      <td>77.239463</td>\n",
       "      <td>1367.026460</td>\n",
       "      <td>1352.066696</td>\n",
       "      <td>6.869995</td>\n",
       "      <td>1</td>\n",
       "      <td>1389.079956</td>\n",
       "    </tr>\n",
       "    <tr>\n",
       "      <th>2006-10-26 00:00:00-04:00</th>\n",
       "      <td>1382.209961</td>\n",
       "      <td>1389.449951</td>\n",
       "      <td>1379.469971</td>\n",
       "      <td>1389.079956</td>\n",
       "      <td>79.694774</td>\n",
       "      <td>1370.419305</td>\n",
       "      <td>1354.808419</td>\n",
       "      <td>-11.550049</td>\n",
       "      <td>0</td>\n",
       "      <td>1377.339966</td>\n",
       "    </tr>\n",
       "    <tr>\n",
       "      <th>2006-10-27 00:00:00-04:00</th>\n",
       "      <td>1388.890015</td>\n",
       "      <td>1388.890015</td>\n",
       "      <td>1375.849976</td>\n",
       "      <td>1377.339966</td>\n",
       "      <td>66.477855</td>\n",
       "      <td>1371.484022</td>\n",
       "      <td>1356.477422</td>\n",
       "      <td>0.630005</td>\n",
       "      <td>1</td>\n",
       "      <td>1377.930054</td>\n",
       "    </tr>\n",
       "    <tr>\n",
       "      <th>2006-10-30 00:00:00-05:00</th>\n",
       "      <td>1377.300049</td>\n",
       "      <td>1381.219971</td>\n",
       "      <td>1373.459961</td>\n",
       "      <td>1377.930054</td>\n",
       "      <td>66.776108</td>\n",
       "      <td>1372.475720</td>\n",
       "      <td>1358.066506</td>\n",
       "      <td>0.009888</td>\n",
       "      <td>1</td>\n",
       "      <td>1377.939941</td>\n",
       "    </tr>\n",
       "    <tr>\n",
       "      <th>...</th>\n",
       "      <td>...</td>\n",
       "      <td>...</td>\n",
       "      <td>...</td>\n",
       "      <td>...</td>\n",
       "      <td>...</td>\n",
       "      <td>...</td>\n",
       "      <td>...</td>\n",
       "      <td>...</td>\n",
       "      <td>...</td>\n",
       "      <td>...</td>\n",
       "    </tr>\n",
       "    <tr>\n",
       "      <th>2022-10-24 00:00:00-04:00</th>\n",
       "      <td>3762.010010</td>\n",
       "      <td>3810.739990</td>\n",
       "      <td>3741.649902</td>\n",
       "      <td>3797.340088</td>\n",
       "      <td>54.033681</td>\n",
       "      <td>3703.155857</td>\n",
       "      <td>3737.302913</td>\n",
       "      <td>59.670166</td>\n",
       "      <td>1</td>\n",
       "      <td>3859.110107</td>\n",
       "    </tr>\n",
       "    <tr>\n",
       "      <th>2022-10-25 00:00:00-04:00</th>\n",
       "      <td>3799.439941</td>\n",
       "      <td>3862.850098</td>\n",
       "      <td>3799.439941</td>\n",
       "      <td>3859.110107</td>\n",
       "      <td>57.765246</td>\n",
       "      <td>3727.148819</td>\n",
       "      <td>3746.325668</td>\n",
       "      <td>4.630127</td>\n",
       "      <td>1</td>\n",
       "      <td>3830.600098</td>\n",
       "    </tr>\n",
       "    <tr>\n",
       "      <th>2022-10-26 00:00:00-04:00</th>\n",
       "      <td>3825.969971</td>\n",
       "      <td>3886.149902</td>\n",
       "      <td>3824.070068</td>\n",
       "      <td>3830.600098</td>\n",
       "      <td>55.524760</td>\n",
       "      <td>3743.064400</td>\n",
       "      <td>3752.568218</td>\n",
       "      <td>-27.389893</td>\n",
       "      <td>0</td>\n",
       "      <td>3807.300049</td>\n",
       "    </tr>\n",
       "    <tr>\n",
       "      <th>2022-10-27 00:00:00-04:00</th>\n",
       "      <td>3834.689941</td>\n",
       "      <td>3859.949951</td>\n",
       "      <td>3803.790039</td>\n",
       "      <td>3807.300049</td>\n",
       "      <td>53.691903</td>\n",
       "      <td>3752.946808</td>\n",
       "      <td>3756.622428</td>\n",
       "      <td>92.800049</td>\n",
       "      <td>1</td>\n",
       "      <td>3901.060059</td>\n",
       "    </tr>\n",
       "    <tr>\n",
       "      <th>2022-10-28 00:00:00-04:00</th>\n",
       "      <td>3808.260010</td>\n",
       "      <td>3905.419922</td>\n",
       "      <td>3808.260010</td>\n",
       "      <td>3901.060059</td>\n",
       "      <td>59.487245</td>\n",
       "      <td>3775.733462</td>\n",
       "      <td>3767.321512</td>\n",
       "      <td>NaN</td>\n",
       "      <td>0</td>\n",
       "      <td>NaN</td>\n",
       "    </tr>\n",
       "  </tbody>\n",
       "</table>\n",
       "<p>4032 rows × 10 columns</p>\n",
       "</div>"
      ],
      "text/plain": [
       "                                  Open         High          Low        Close  \\\n",
       "Date                                                                            \n",
       "2006-10-24 00:00:00-04:00  1377.020020  1377.780029  1372.420044  1377.380005   \n",
       "2006-10-25 00:00:00-04:00  1377.359985  1383.609985  1376.000000  1382.219971   \n",
       "2006-10-26 00:00:00-04:00  1382.209961  1389.449951  1379.469971  1389.079956   \n",
       "2006-10-27 00:00:00-04:00  1388.890015  1388.890015  1375.849976  1377.339966   \n",
       "2006-10-30 00:00:00-05:00  1377.300049  1381.219971  1373.459961  1377.930054   \n",
       "...                                ...          ...          ...          ...   \n",
       "2022-10-24 00:00:00-04:00  3762.010010  3810.739990  3741.649902  3797.340088   \n",
       "2022-10-25 00:00:00-04:00  3799.439941  3862.850098  3799.439941  3859.110107   \n",
       "2022-10-26 00:00:00-04:00  3825.969971  3886.149902  3824.070068  3830.600098   \n",
       "2022-10-27 00:00:00-04:00  3834.689941  3859.949951  3803.790039  3807.300049   \n",
       "2022-10-28 00:00:00-04:00  3808.260010  3905.419922  3808.260010  3901.060059   \n",
       "\n",
       "                             RSIline     EMAShort      EMALong  Target_Diff  \\\n",
       "Date                                                                          \n",
       "2006-10-24 00:00:00-04:00  75.281252  1364.264003  1349.654434     4.859985   \n",
       "2006-10-25 00:00:00-04:00  77.239463  1367.026460  1352.066696     6.869995   \n",
       "2006-10-26 00:00:00-04:00  79.694774  1370.419305  1354.808419   -11.550049   \n",
       "2006-10-27 00:00:00-04:00  66.477855  1371.484022  1356.477422     0.630005   \n",
       "2006-10-30 00:00:00-05:00  66.776108  1372.475720  1358.066506     0.009888   \n",
       "...                              ...          ...          ...          ...   \n",
       "2022-10-24 00:00:00-04:00  54.033681  3703.155857  3737.302913    59.670166   \n",
       "2022-10-25 00:00:00-04:00  57.765246  3727.148819  3746.325668     4.630127   \n",
       "2022-10-26 00:00:00-04:00  55.524760  3743.064400  3752.568218   -27.389893   \n",
       "2022-10-27 00:00:00-04:00  53.691903  3752.946808  3756.622428    92.800049   \n",
       "2022-10-28 00:00:00-04:00  59.487245  3775.733462  3767.321512          NaN   \n",
       "\n",
       "                           Target_Class  Target_Next_Close  \n",
       "Date                                                        \n",
       "2006-10-24 00:00:00-04:00             1        1382.219971  \n",
       "2006-10-25 00:00:00-04:00             1        1389.079956  \n",
       "2006-10-26 00:00:00-04:00             0        1377.339966  \n",
       "2006-10-27 00:00:00-04:00             1        1377.930054  \n",
       "2006-10-30 00:00:00-05:00             1        1377.939941  \n",
       "...                                 ...                ...  \n",
       "2022-10-24 00:00:00-04:00             1        3859.110107  \n",
       "2022-10-25 00:00:00-04:00             1        3830.600098  \n",
       "2022-10-26 00:00:00-04:00             0        3807.300049  \n",
       "2022-10-27 00:00:00-04:00             1        3901.060059  \n",
       "2022-10-28 00:00:00-04:00             0                NaN  \n",
       "\n",
       "[4032 rows x 10 columns]"
      ]
     },
     "metadata": {},
     "output_type": "display_data"
    },
    {
     "data": {
      "text/html": [
       "<div>\n",
       "<style scoped>\n",
       "    .dataframe tbody tr th:only-of-type {\n",
       "        vertical-align: middle;\n",
       "    }\n",
       "\n",
       "    .dataframe tbody tr th {\n",
       "        vertical-align: top;\n",
       "    }\n",
       "\n",
       "    .dataframe thead th {\n",
       "        text-align: right;\n",
       "    }\n",
       "</style>\n",
       "<table border=\"1\" class=\"dataframe\">\n",
       "  <thead>\n",
       "    <tr style=\"text-align: right;\">\n",
       "      <th></th>\n",
       "      <th>Target_Class</th>\n",
       "    </tr>\n",
       "    <tr>\n",
       "      <th>Date</th>\n",
       "      <th></th>\n",
       "    </tr>\n",
       "  </thead>\n",
       "  <tbody>\n",
       "    <tr>\n",
       "      <th>2006-10-24 00:00:00-04:00</th>\n",
       "      <td>1</td>\n",
       "    </tr>\n",
       "    <tr>\n",
       "      <th>2006-10-25 00:00:00-04:00</th>\n",
       "      <td>1</td>\n",
       "    </tr>\n",
       "    <tr>\n",
       "      <th>2006-10-26 00:00:00-04:00</th>\n",
       "      <td>0</td>\n",
       "    </tr>\n",
       "    <tr>\n",
       "      <th>2006-10-27 00:00:00-04:00</th>\n",
       "      <td>1</td>\n",
       "    </tr>\n",
       "    <tr>\n",
       "      <th>2006-10-30 00:00:00-05:00</th>\n",
       "      <td>1</td>\n",
       "    </tr>\n",
       "    <tr>\n",
       "      <th>...</th>\n",
       "      <td>...</td>\n",
       "    </tr>\n",
       "    <tr>\n",
       "      <th>2022-10-24 00:00:00-04:00</th>\n",
       "      <td>1</td>\n",
       "    </tr>\n",
       "    <tr>\n",
       "      <th>2022-10-25 00:00:00-04:00</th>\n",
       "      <td>1</td>\n",
       "    </tr>\n",
       "    <tr>\n",
       "      <th>2022-10-26 00:00:00-04:00</th>\n",
       "      <td>0</td>\n",
       "    </tr>\n",
       "    <tr>\n",
       "      <th>2022-10-27 00:00:00-04:00</th>\n",
       "      <td>1</td>\n",
       "    </tr>\n",
       "    <tr>\n",
       "      <th>2022-10-28 00:00:00-04:00</th>\n",
       "      <td>0</td>\n",
       "    </tr>\n",
       "  </tbody>\n",
       "</table>\n",
       "<p>4032 rows × 1 columns</p>\n",
       "</div>"
      ],
      "text/plain": [
       "                           Target_Class\n",
       "Date                                   \n",
       "2006-10-24 00:00:00-04:00             1\n",
       "2006-10-25 00:00:00-04:00             1\n",
       "2006-10-26 00:00:00-04:00             0\n",
       "2006-10-27 00:00:00-04:00             1\n",
       "2006-10-30 00:00:00-05:00             1\n",
       "...                                 ...\n",
       "2022-10-24 00:00:00-04:00             1\n",
       "2022-10-25 00:00:00-04:00             1\n",
       "2022-10-26 00:00:00-04:00             0\n",
       "2022-10-27 00:00:00-04:00             1\n",
       "2022-10-28 00:00:00-04:00             0\n",
       "\n",
       "[4032 rows x 1 columns]"
      ]
     },
     "metadata": {},
     "output_type": "display_data"
    }
   ],
   "source": [
    "# Create X features dataframe for LSTM\n",
    "# Drop non-normalized & pre-Zscore calculated column values\n",
    "# Drop all Bear & Bull signals for Elder Ray as they do not apply to forex strategy only\n",
    "# I.e. 'lowerBB_normal', 'middleBB_normal', 'upperBB_normal', '2stdBB_normal'\n",
    "\n",
    "must_drop_feat = ['Ticker', 'Date.1']\n",
    "\n",
    "OHLCV = ['Open', 'High', 'Low', 'Close', 'Volume'] \n",
    "\n",
    "standard_feat = ['EMAShort', 'EMALong', 'RSIline', 'MOMline', 'ROCline', 'SMAline', 'lowerBB', \\\n",
    "                 'middleBB', 'upperBB', '2stdBB', 'MACDline', 'MACDHistogram', 'MACDSignal']\n",
    "\n",
    "normal_feat = ['EMAShort_normal', 'EMALong_normal', 'RSIline_normal', 'MOMline_normal', 'ROCline_normal', \\\n",
    "               'SMAline_normal', 'lowerBB_normal', 'middleBB_normal', 'upperBB_normal', \\\n",
    "               '2stdBB_normal', 'MACDline_normal', 'MACDHistogram_normal', 'MACDSignal_normal']\n",
    "\n",
    "zscore_feat = ['EMAShort_zscore', 'EMALong_zscore', 'RSIline_zscore', 'MOMline_zscore', 'ROCline_zscore', \\\n",
    "               'SMAline_zscore', 'lowerBB_zscore', 'middleBB_zscore', 'upperBB_zscore', \\\n",
    "               '2stdBB_zscore', 'MACDline_zscore', 'MACDHistogram_zscore', 'MACDSignal_zscore']\n",
    "\n",
    "oscillator_feat = ['RSIline', 'MOMline', 'ROCline','MACDline', 'MACDHistogram', 'MACDSignal']\n",
    "\n",
    "oscillator_wo_RSI_feat = ['MOMline', 'ROCline','MACDline', 'MACDHistogram', 'MACDSignal']\n",
    "\n",
    "# Choose backtest variable to be used later on to cut y_train & y_test prematurely\n",
    "backcandles = 30\n",
    "\n",
    "X = df.copy()\n",
    "X = X.drop(columns = zscore_feat)\n",
    "#X = X.drop(columns = standard_feat)\n",
    "#X = X.drop(columns = OHLCV)\n",
    "X = X.drop(columns = must_drop_feat)\n",
    "#X = X.drop(columns = normal_feat)\n",
    "#X = X.drop(columns = oscillator_feat)\n",
    "X = X.drop(columns = oscillator_wo_RSI_feat)\n",
    "X['ActualReturns'] = actual_returns_shift_df['Norm Actual Returns']\n",
    "X = X.dropna()\n",
    "#y = X[['Signal']]\n",
    "X = X.drop(columns = ['Signal'])\n",
    "X = X.drop(columns = ['Volume'])\n",
    "X = X.drop(columns = ['SMAline'])\n",
    "\n",
    "# Create target feature which is the difference between the open/close of the day and shifted back (-1) day(s) in order to predict\n",
    "X['Target_Diff'] = X['Close'] - X['Open']\n",
    "X['Target_Diff'] = X['Target_Diff'].shift(-1)\n",
    "\n",
    "# Create feature target class that displays if close>open=1 & close<open=0 (1,0 for sigmoid compatibility)\n",
    "X['Target_Class'] = [1 if X['Target_Diff'][i] > 0 else 0 for i in range(len(X))]\n",
    "\n",
    "# Create feature target next close and shift back one day in order to predict for the next day\n",
    "X['Target_Next_Close'] = X['Close'].shift(-1)\n",
    "\n",
    "#X = X.reindex(columns=[0, 1, 2, 3, 'Target',])\n",
    "X = X[['Open', 'High', 'Low', 'Close', 'RSIline', 'EMAShort', 'EMALong', 'Target_Diff', 'Target_Class', 'Target_Next_Close']]\n",
    "\n",
    "# Set prediction column -> in this case try and predict buy/sell signal (1,0) with Target_Class\n",
    "y = X[['Target_Class']]\n",
    "\n",
    "display(f\"Number of included columns in final X-features: {len(X.columns)}\")\n",
    "display(X)\n",
    "display(y)"
   ]
  },
  {
   "cell_type": "code",
   "execution_count": 12,
   "id": "fdd227bd-7c9d-4a2d-8c49-a22ca8baad65",
   "metadata": {},
   "outputs": [
    {
     "name": "stdout",
     "output_type": "stream",
     "text": [
      "Training begin: 2006-10-24 00:00:00-04:00.\n",
      "Training end: 2018-11-24 00:00:00-04:00.\n"
     ]
    }
   ],
   "source": [
    "# Splitting Datasets Using 145 Week Groupings\n",
    "# Select trading begin\n",
    "training_begin = X.index.min()\n",
    "print(f\"Training begin: {training_begin}.\")\n",
    "\n",
    "# Select trading end\n",
    "# Note: months = 145 for all assets except ETH-USD (months= 14)\n",
    "# Note: months = 145 for all assets except BTC-USD (months= 70)\n",
    "training_end = X.index.min() + DateOffset(months = 145)\n",
    "print(f\"Training end: {training_end}.\")\n",
    "\n",
    "X_train = X.loc[training_begin:training_end] \n",
    "y_train_1 = y.loc[training_begin:training_end] \n",
    "\n",
    "X_test = X.loc[training_end:]\n",
    "y_test_1 = y.loc[training_end:]\n",
    "\n",
    "# Slice y_train & y_test by backcandle requirements\n",
    "y_train = y_train_1.iloc[backcandles:]\n",
    "y_test = y_test_1.iloc[backcandles:]\n",
    "\n",
    "# Create Dataframe just to hold 'ActualReturns' values for end of calculations\n",
    "X_ActualReturns = actual_returns_shift_df.loc[training_end:]\n",
    "                \n",
    "#Also save a second X_test_aligned_index for final dataframe\n",
    "X_test_aligned_index = X.loc[training_end:]"
   ]
  },
  {
   "cell_type": "code",
   "execution_count": 13,
   "id": "52a957c8-08e5-4124-bc75-7e17ed77f1a8",
   "metadata": {},
   "outputs": [
    {
     "data": {
      "text/html": [
       "<div>\n",
       "<style scoped>\n",
       "    .dataframe tbody tr th:only-of-type {\n",
       "        vertical-align: middle;\n",
       "    }\n",
       "\n",
       "    .dataframe tbody tr th {\n",
       "        vertical-align: top;\n",
       "    }\n",
       "\n",
       "    .dataframe thead th {\n",
       "        text-align: right;\n",
       "    }\n",
       "</style>\n",
       "<table border=\"1\" class=\"dataframe\">\n",
       "  <thead>\n",
       "    <tr style=\"text-align: right;\">\n",
       "      <th></th>\n",
       "      <th>Target_Class</th>\n",
       "    </tr>\n",
       "    <tr>\n",
       "      <th>Date</th>\n",
       "      <th></th>\n",
       "    </tr>\n",
       "  </thead>\n",
       "  <tbody>\n",
       "    <tr>\n",
       "      <th>2006-12-06 00:00:00-05:00</th>\n",
       "      <td>0</td>\n",
       "    </tr>\n",
       "    <tr>\n",
       "      <th>2006-12-07 00:00:00-05:00</th>\n",
       "      <td>1</td>\n",
       "    </tr>\n",
       "    <tr>\n",
       "      <th>2006-12-08 00:00:00-05:00</th>\n",
       "      <td>1</td>\n",
       "    </tr>\n",
       "    <tr>\n",
       "      <th>2006-12-11 00:00:00-05:00</th>\n",
       "      <td>0</td>\n",
       "    </tr>\n",
       "    <tr>\n",
       "      <th>2006-12-12 00:00:00-05:00</th>\n",
       "      <td>1</td>\n",
       "    </tr>\n",
       "    <tr>\n",
       "      <th>...</th>\n",
       "      <td>...</td>\n",
       "    </tr>\n",
       "    <tr>\n",
       "      <th>2018-11-16 00:00:00-05:00</th>\n",
       "      <td>0</td>\n",
       "    </tr>\n",
       "    <tr>\n",
       "      <th>2018-11-19 00:00:00-05:00</th>\n",
       "      <td>0</td>\n",
       "    </tr>\n",
       "    <tr>\n",
       "      <th>2018-11-20 00:00:00-05:00</th>\n",
       "      <td>0</td>\n",
       "    </tr>\n",
       "    <tr>\n",
       "      <th>2018-11-21 00:00:00-05:00</th>\n",
       "      <td>0</td>\n",
       "    </tr>\n",
       "    <tr>\n",
       "      <th>2018-11-23 00:00:00-05:00</th>\n",
       "      <td>1</td>\n",
       "    </tr>\n",
       "  </tbody>\n",
       "</table>\n",
       "<p>3013 rows × 1 columns</p>\n",
       "</div>"
      ],
      "text/plain": [
       "                           Target_Class\n",
       "Date                                   \n",
       "2006-12-06 00:00:00-05:00             0\n",
       "2006-12-07 00:00:00-05:00             1\n",
       "2006-12-08 00:00:00-05:00             1\n",
       "2006-12-11 00:00:00-05:00             0\n",
       "2006-12-12 00:00:00-05:00             1\n",
       "...                                 ...\n",
       "2018-11-16 00:00:00-05:00             0\n",
       "2018-11-19 00:00:00-05:00             0\n",
       "2018-11-20 00:00:00-05:00             0\n",
       "2018-11-21 00:00:00-05:00             0\n",
       "2018-11-23 00:00:00-05:00             1\n",
       "\n",
       "[3013 rows x 1 columns]"
      ]
     },
     "execution_count": 13,
     "metadata": {},
     "output_type": "execute_result"
    }
   ],
   "source": [
    "# Test output y_train\n",
    "y_train"
   ]
  },
  {
   "cell_type": "code",
   "execution_count": 14,
   "id": "1b1a0dc1-20a2-44dd-b481-ae453a4794d6",
   "metadata": {},
   "outputs": [],
   "source": [
    "#backcandles_offset_start_train = y_train.index.min() + DateOffset(days = backcandles)\n",
    "\n",
    "#y_train = y_train.loc[backcandles_offset_start_train:]\n",
    "#y_train"
   ]
  },
  {
   "cell_type": "code",
   "execution_count": 15,
   "id": "2bba74df-30ec-44cc-8ce5-4fbc34991af3",
   "metadata": {},
   "outputs": [
    {
     "data": {
      "text/html": [
       "<div>\n",
       "<style scoped>\n",
       "    .dataframe tbody tr th:only-of-type {\n",
       "        vertical-align: middle;\n",
       "    }\n",
       "\n",
       "    .dataframe tbody tr th {\n",
       "        vertical-align: top;\n",
       "    }\n",
       "\n",
       "    .dataframe thead th {\n",
       "        text-align: right;\n",
       "    }\n",
       "</style>\n",
       "<table border=\"1\" class=\"dataframe\">\n",
       "  <thead>\n",
       "    <tr style=\"text-align: right;\">\n",
       "      <th></th>\n",
       "      <th>Target_Class</th>\n",
       "    </tr>\n",
       "    <tr>\n",
       "      <th>Date</th>\n",
       "      <th></th>\n",
       "    </tr>\n",
       "  </thead>\n",
       "  <tbody>\n",
       "    <tr>\n",
       "      <th>2019-01-10 00:00:00-05:00</th>\n",
       "      <td>1</td>\n",
       "    </tr>\n",
       "    <tr>\n",
       "      <th>2019-01-11 00:00:00-05:00</th>\n",
       "      <td>1</td>\n",
       "    </tr>\n",
       "    <tr>\n",
       "      <th>2019-01-14 00:00:00-05:00</th>\n",
       "      <td>1</td>\n",
       "    </tr>\n",
       "    <tr>\n",
       "      <th>2019-01-15 00:00:00-05:00</th>\n",
       "      <td>1</td>\n",
       "    </tr>\n",
       "    <tr>\n",
       "      <th>2019-01-16 00:00:00-05:00</th>\n",
       "      <td>1</td>\n",
       "    </tr>\n",
       "    <tr>\n",
       "      <th>...</th>\n",
       "      <td>...</td>\n",
       "    </tr>\n",
       "    <tr>\n",
       "      <th>2022-10-24 00:00:00-04:00</th>\n",
       "      <td>1</td>\n",
       "    </tr>\n",
       "    <tr>\n",
       "      <th>2022-10-25 00:00:00-04:00</th>\n",
       "      <td>1</td>\n",
       "    </tr>\n",
       "    <tr>\n",
       "      <th>2022-10-26 00:00:00-04:00</th>\n",
       "      <td>0</td>\n",
       "    </tr>\n",
       "    <tr>\n",
       "      <th>2022-10-27 00:00:00-04:00</th>\n",
       "      <td>1</td>\n",
       "    </tr>\n",
       "    <tr>\n",
       "      <th>2022-10-28 00:00:00-04:00</th>\n",
       "      <td>0</td>\n",
       "    </tr>\n",
       "  </tbody>\n",
       "</table>\n",
       "<p>959 rows × 1 columns</p>\n",
       "</div>"
      ],
      "text/plain": [
       "                           Target_Class\n",
       "Date                                   \n",
       "2019-01-10 00:00:00-05:00             1\n",
       "2019-01-11 00:00:00-05:00             1\n",
       "2019-01-14 00:00:00-05:00             1\n",
       "2019-01-15 00:00:00-05:00             1\n",
       "2019-01-16 00:00:00-05:00             1\n",
       "...                                 ...\n",
       "2022-10-24 00:00:00-04:00             1\n",
       "2022-10-25 00:00:00-04:00             1\n",
       "2022-10-26 00:00:00-04:00             0\n",
       "2022-10-27 00:00:00-04:00             1\n",
       "2022-10-28 00:00:00-04:00             0\n",
       "\n",
       "[959 rows x 1 columns]"
      ]
     },
     "execution_count": 15,
     "metadata": {},
     "output_type": "execute_result"
    }
   ],
   "source": [
    "# y_test test\n",
    "y_test"
   ]
  },
  {
   "cell_type": "code",
   "execution_count": 16,
   "id": "6460a672-e059-4aa9-8151-66f5914d3f73",
   "metadata": {},
   "outputs": [
    {
     "data": {
      "text/html": [
       "<div>\n",
       "<style scoped>\n",
       "    .dataframe tbody tr th:only-of-type {\n",
       "        vertical-align: middle;\n",
       "    }\n",
       "\n",
       "    .dataframe tbody tr th {\n",
       "        vertical-align: top;\n",
       "    }\n",
       "\n",
       "    .dataframe thead th {\n",
       "        text-align: right;\n",
       "    }\n",
       "</style>\n",
       "<table border=\"1\" class=\"dataframe\">\n",
       "  <thead>\n",
       "    <tr style=\"text-align: right;\">\n",
       "      <th></th>\n",
       "      <th>Open</th>\n",
       "      <th>High</th>\n",
       "      <th>Low</th>\n",
       "      <th>Close</th>\n",
       "      <th>RSIline</th>\n",
       "      <th>EMAShort</th>\n",
       "      <th>EMALong</th>\n",
       "      <th>Target_Diff</th>\n",
       "      <th>Target_Class</th>\n",
       "      <th>Target_Next_Close</th>\n",
       "    </tr>\n",
       "    <tr>\n",
       "      <th>Date</th>\n",
       "      <th></th>\n",
       "      <th></th>\n",
       "      <th></th>\n",
       "      <th></th>\n",
       "      <th></th>\n",
       "      <th></th>\n",
       "      <th></th>\n",
       "      <th></th>\n",
       "      <th></th>\n",
       "      <th></th>\n",
       "    </tr>\n",
       "  </thead>\n",
       "  <tbody>\n",
       "    <tr>\n",
       "      <th>2018-11-26 00:00:00-05:00</th>\n",
       "      <td>2649.969971</td>\n",
       "      <td>2674.350098</td>\n",
       "      <td>2649.969971</td>\n",
       "      <td>2673.449951</td>\n",
       "      <td>42.470118</td>\n",
       "      <td>2692.234454</td>\n",
       "      <td>2724.365816</td>\n",
       "      <td>18.419922</td>\n",
       "      <td>1</td>\n",
       "      <td>2682.169922</td>\n",
       "    </tr>\n",
       "    <tr>\n",
       "      <th>2018-11-27 00:00:00-05:00</th>\n",
       "      <td>2663.750000</td>\n",
       "      <td>2682.530029</td>\n",
       "      <td>2655.889893</td>\n",
       "      <td>2682.169922</td>\n",
       "      <td>43.863468</td>\n",
       "      <td>2690.686064</td>\n",
       "      <td>2721.240194</td>\n",
       "      <td>52.340088</td>\n",
       "      <td>1</td>\n",
       "      <td>2743.790039</td>\n",
       "    </tr>\n",
       "    <tr>\n",
       "      <th>2018-11-28 00:00:00-05:00</th>\n",
       "      <td>2691.449951</td>\n",
       "      <td>2744.000000</td>\n",
       "      <td>2684.379883</td>\n",
       "      <td>2743.790039</td>\n",
       "      <td>52.599970</td>\n",
       "      <td>2698.855907</td>\n",
       "      <td>2722.910553</td>\n",
       "      <td>0.830078</td>\n",
       "      <td>1</td>\n",
       "      <td>2737.800049</td>\n",
       "    </tr>\n",
       "    <tr>\n",
       "      <th>2018-11-29 00:00:00-05:00</th>\n",
       "      <td>2736.969971</td>\n",
       "      <td>2753.750000</td>\n",
       "      <td>2722.939941</td>\n",
       "      <td>2737.800049</td>\n",
       "      <td>51.756738</td>\n",
       "      <td>2704.847313</td>\n",
       "      <td>2724.013479</td>\n",
       "      <td>22.409912</td>\n",
       "      <td>1</td>\n",
       "      <td>2760.169922</td>\n",
       "    </tr>\n",
       "    <tr>\n",
       "      <th>2018-11-30 00:00:00-05:00</th>\n",
       "      <td>2737.760010</td>\n",
       "      <td>2760.879883</td>\n",
       "      <td>2732.760010</td>\n",
       "      <td>2760.169922</td>\n",
       "      <td>54.678773</td>\n",
       "      <td>2713.358484</td>\n",
       "      <td>2726.691734</td>\n",
       "      <td>-0.129883</td>\n",
       "      <td>0</td>\n",
       "      <td>2790.370117</td>\n",
       "    </tr>\n",
       "    <tr>\n",
       "      <th>...</th>\n",
       "      <td>...</td>\n",
       "      <td>...</td>\n",
       "      <td>...</td>\n",
       "      <td>...</td>\n",
       "      <td>...</td>\n",
       "      <td>...</td>\n",
       "      <td>...</td>\n",
       "      <td>...</td>\n",
       "      <td>...</td>\n",
       "      <td>...</td>\n",
       "    </tr>\n",
       "    <tr>\n",
       "      <th>2022-10-24 00:00:00-04:00</th>\n",
       "      <td>3762.010010</td>\n",
       "      <td>3810.739990</td>\n",
       "      <td>3741.649902</td>\n",
       "      <td>3797.340088</td>\n",
       "      <td>54.033681</td>\n",
       "      <td>3703.155857</td>\n",
       "      <td>3737.302913</td>\n",
       "      <td>59.670166</td>\n",
       "      <td>1</td>\n",
       "      <td>3859.110107</td>\n",
       "    </tr>\n",
       "    <tr>\n",
       "      <th>2022-10-25 00:00:00-04:00</th>\n",
       "      <td>3799.439941</td>\n",
       "      <td>3862.850098</td>\n",
       "      <td>3799.439941</td>\n",
       "      <td>3859.110107</td>\n",
       "      <td>57.765246</td>\n",
       "      <td>3727.148819</td>\n",
       "      <td>3746.325668</td>\n",
       "      <td>4.630127</td>\n",
       "      <td>1</td>\n",
       "      <td>3830.600098</td>\n",
       "    </tr>\n",
       "    <tr>\n",
       "      <th>2022-10-26 00:00:00-04:00</th>\n",
       "      <td>3825.969971</td>\n",
       "      <td>3886.149902</td>\n",
       "      <td>3824.070068</td>\n",
       "      <td>3830.600098</td>\n",
       "      <td>55.524760</td>\n",
       "      <td>3743.064400</td>\n",
       "      <td>3752.568218</td>\n",
       "      <td>-27.389893</td>\n",
       "      <td>0</td>\n",
       "      <td>3807.300049</td>\n",
       "    </tr>\n",
       "    <tr>\n",
       "      <th>2022-10-27 00:00:00-04:00</th>\n",
       "      <td>3834.689941</td>\n",
       "      <td>3859.949951</td>\n",
       "      <td>3803.790039</td>\n",
       "      <td>3807.300049</td>\n",
       "      <td>53.691903</td>\n",
       "      <td>3752.946808</td>\n",
       "      <td>3756.622428</td>\n",
       "      <td>92.800049</td>\n",
       "      <td>1</td>\n",
       "      <td>3901.060059</td>\n",
       "    </tr>\n",
       "    <tr>\n",
       "      <th>2022-10-28 00:00:00-04:00</th>\n",
       "      <td>3808.260010</td>\n",
       "      <td>3905.419922</td>\n",
       "      <td>3808.260010</td>\n",
       "      <td>3901.060059</td>\n",
       "      <td>59.487245</td>\n",
       "      <td>3775.733462</td>\n",
       "      <td>3767.321512</td>\n",
       "      <td>NaN</td>\n",
       "      <td>0</td>\n",
       "      <td>NaN</td>\n",
       "    </tr>\n",
       "  </tbody>\n",
       "</table>\n",
       "<p>989 rows × 10 columns</p>\n",
       "</div>"
      ],
      "text/plain": [
       "                                  Open         High          Low        Close  \\\n",
       "Date                                                                            \n",
       "2018-11-26 00:00:00-05:00  2649.969971  2674.350098  2649.969971  2673.449951   \n",
       "2018-11-27 00:00:00-05:00  2663.750000  2682.530029  2655.889893  2682.169922   \n",
       "2018-11-28 00:00:00-05:00  2691.449951  2744.000000  2684.379883  2743.790039   \n",
       "2018-11-29 00:00:00-05:00  2736.969971  2753.750000  2722.939941  2737.800049   \n",
       "2018-11-30 00:00:00-05:00  2737.760010  2760.879883  2732.760010  2760.169922   \n",
       "...                                ...          ...          ...          ...   \n",
       "2022-10-24 00:00:00-04:00  3762.010010  3810.739990  3741.649902  3797.340088   \n",
       "2022-10-25 00:00:00-04:00  3799.439941  3862.850098  3799.439941  3859.110107   \n",
       "2022-10-26 00:00:00-04:00  3825.969971  3886.149902  3824.070068  3830.600098   \n",
       "2022-10-27 00:00:00-04:00  3834.689941  3859.949951  3803.790039  3807.300049   \n",
       "2022-10-28 00:00:00-04:00  3808.260010  3905.419922  3808.260010  3901.060059   \n",
       "\n",
       "                             RSIline     EMAShort      EMALong  Target_Diff  \\\n",
       "Date                                                                          \n",
       "2018-11-26 00:00:00-05:00  42.470118  2692.234454  2724.365816    18.419922   \n",
       "2018-11-27 00:00:00-05:00  43.863468  2690.686064  2721.240194    52.340088   \n",
       "2018-11-28 00:00:00-05:00  52.599970  2698.855907  2722.910553     0.830078   \n",
       "2018-11-29 00:00:00-05:00  51.756738  2704.847313  2724.013479    22.409912   \n",
       "2018-11-30 00:00:00-05:00  54.678773  2713.358484  2726.691734    -0.129883   \n",
       "...                              ...          ...          ...          ...   \n",
       "2022-10-24 00:00:00-04:00  54.033681  3703.155857  3737.302913    59.670166   \n",
       "2022-10-25 00:00:00-04:00  57.765246  3727.148819  3746.325668     4.630127   \n",
       "2022-10-26 00:00:00-04:00  55.524760  3743.064400  3752.568218   -27.389893   \n",
       "2022-10-27 00:00:00-04:00  53.691903  3752.946808  3756.622428    92.800049   \n",
       "2022-10-28 00:00:00-04:00  59.487245  3775.733462  3767.321512          NaN   \n",
       "\n",
       "                           Target_Class  Target_Next_Close  \n",
       "Date                                                        \n",
       "2018-11-26 00:00:00-05:00             1        2682.169922  \n",
       "2018-11-27 00:00:00-05:00             1        2743.790039  \n",
       "2018-11-28 00:00:00-05:00             1        2737.800049  \n",
       "2018-11-29 00:00:00-05:00             1        2760.169922  \n",
       "2018-11-30 00:00:00-05:00             0        2790.370117  \n",
       "...                                 ...                ...  \n",
       "2022-10-24 00:00:00-04:00             1        3859.110107  \n",
       "2022-10-25 00:00:00-04:00             1        3830.600098  \n",
       "2022-10-26 00:00:00-04:00             0        3807.300049  \n",
       "2022-10-27 00:00:00-04:00             1        3901.060059  \n",
       "2022-10-28 00:00:00-04:00             0                NaN  \n",
       "\n",
       "[989 rows x 10 columns]"
      ]
     },
     "execution_count": 16,
     "metadata": {},
     "output_type": "execute_result"
    }
   ],
   "source": [
    "X_test"
   ]
  },
  {
   "cell_type": "code",
   "execution_count": 17,
   "id": "433d2e3f-8aee-4689-bc40-51a893507c36",
   "metadata": {},
   "outputs": [],
   "source": [
    "# Test output y_test\n",
    "#backcandles_offset_start_test = y_test.index.min() + DateOffset(days = backcandles)\n",
    "\n",
    "#y_test = y_test.loc[backcandles_offset_start_test:]"
   ]
  },
  {
   "cell_type": "code",
   "execution_count": 18,
   "id": "5dd4c909-0e2d-4761-b270-e32d53df97c5",
   "metadata": {},
   "outputs": [],
   "source": [
    "#y_test"
   ]
  },
  {
   "cell_type": "code",
   "execution_count": 19,
   "id": "bf23b64b-24a1-4081-b303-2229a7bc033c",
   "metadata": {},
   "outputs": [],
   "source": [
    "# Function to convert all sell signals (-1) to be compatible with the output sigmoid activation function\n",
    "\n",
    "#def convert_neg(y_df):\n",
    "#    for i in (range(len(y_df))):\n",
    "#        if (y_df['Signal'][i] == -1):\n",
    "#            y_df['Signal'][i] = 0\n",
    "#        \n",
    "#    return y_df"
   ]
  },
  {
   "cell_type": "code",
   "execution_count": 20,
   "id": "48d7442e-edff-4fc5-9aff-1535dd297bc2",
   "metadata": {},
   "outputs": [],
   "source": [
    "#y_train.copy()\n",
    "#y_train = convert_neg(y_train)"
   ]
  },
  {
   "cell_type": "code",
   "execution_count": 21,
   "id": "4594c125-b028-4627-a201-934bec93183e",
   "metadata": {},
   "outputs": [],
   "source": [
    "#y_test.copy()\n",
    "#y_test = convert_neg(y_test)"
   ]
  },
  {
   "cell_type": "code",
   "execution_count": 22,
   "id": "4f5ca861-5d2c-46ce-b836-b74fad0c8c46",
   "metadata": {},
   "outputs": [],
   "source": [
    "# Re-test output y_train after -1->0 conversion for sigmoid output compatiblity \n",
    "#y_train"
   ]
  },
  {
   "cell_type": "code",
   "execution_count": 23,
   "id": "b3daa006-aacd-4011-9829-21131c07201f",
   "metadata": {},
   "outputs": [],
   "source": [
    "# Re-test output y_test after -1->0 conversion for sigmoid output compatiblity \n",
    "#y_test"
   ]
  },
  {
   "cell_type": "code",
   "execution_count": 24,
   "id": "a2ee1f22-a3f1-4795-9ac8-7543b92c4d4e",
   "metadata": {},
   "outputs": [
    {
     "data": {
      "text/plain": [
       "'X Dataframe shape: (4032, 10).'"
      ]
     },
     "metadata": {},
     "output_type": "display_data"
    },
    {
     "data": {
      "text/plain": [
       "'y Dataframe shape: (4032, 1).'"
      ]
     },
     "metadata": {},
     "output_type": "display_data"
    },
    {
     "data": {
      "text/plain": [
       "'X_train Dataframe shape: (3043, 10).'"
      ]
     },
     "metadata": {},
     "output_type": "display_data"
    },
    {
     "data": {
      "text/plain": [
       "'y_train shape: (3013, 1).'"
      ]
     },
     "metadata": {},
     "output_type": "display_data"
    },
    {
     "data": {
      "text/plain": [
       "'X_test Dataframe shape: (989, 10).'"
      ]
     },
     "metadata": {},
     "output_type": "display_data"
    },
    {
     "data": {
      "text/plain": [
       "'y_test shape: (959, 1).'"
      ]
     },
     "metadata": {},
     "output_type": "display_data"
    }
   ],
   "source": [
    "# Training & Test Set Dimensions\n",
    "\n",
    "display(f\"X Dataframe shape: {X.shape}.\")\n",
    "display(f\"y Dataframe shape: {y.shape}.\")\n",
    "display(f\"X_train Dataframe shape: {X_train.shape}.\")\n",
    "display(f\"y_train shape: {y_train.shape}.\")\n",
    "display(f\"X_test Dataframe shape: {X_test.shape}.\")\n",
    "display(f\"y_test shape: {y_test.shape}.\")"
   ]
  },
  {
   "cell_type": "code",
   "execution_count": 25,
   "id": "6cbac3b9-1d3b-4412-85dc-241413bacab5",
   "metadata": {},
   "outputs": [
    {
     "data": {
      "text/plain": [
       "array([0, 1, 1])"
      ]
     },
     "metadata": {},
     "output_type": "display_data"
    },
    {
     "data": {
      "text/plain": [
       "1"
      ]
     },
     "metadata": {},
     "output_type": "display_data"
    },
    {
     "data": {
      "text/plain": [
       "array([1, 1, 1])"
      ]
     },
     "metadata": {},
     "output_type": "display_data"
    },
    {
     "data": {
      "text/plain": [
       "0"
      ]
     },
     "metadata": {},
     "output_type": "display_data"
    }
   ],
   "source": [
    "# Convert y_train/y_test dataframe ['Target_Class'] columns values to array for Keras Sequential fitting \n",
    "\n",
    "y_train = y_train['Target_Class'].values\n",
    "display(y_train[0:3])\n",
    "display(y_train[-1])\n",
    "y_test = y_test['Target_Class'].values\n",
    "display(y_test[0:3])\n",
    "display(y_test[-1])"
   ]
  },
  {
   "cell_type": "code",
   "execution_count": 26,
   "id": "aeb423c6-92cb-4e77-b382-43084af76203",
   "metadata": {},
   "outputs": [
    {
     "data": {
      "text/plain": [
       "'Number of final X_test features to run into ANN: 10.'"
      ]
     },
     "metadata": {},
     "output_type": "display_data"
    },
    {
     "data": {
      "text/plain": [
       "array([[0],\n",
       "       [1],\n",
       "       [1],\n",
       "       [0],\n",
       "       [1],\n",
       "       [1],\n",
       "       [1],\n",
       "       [0],\n",
       "       [1],\n",
       "       [0]], dtype=int32)"
      ]
     },
     "metadata": {},
     "output_type": "display_data"
    },
    {
     "data": {
      "text/plain": [
       "array([[1],\n",
       "       [1],\n",
       "       [1],\n",
       "       [1],\n",
       "       [1],\n",
       "       [1],\n",
       "       [0],\n",
       "       [0],\n",
       "       [1],\n",
       "       [1]], dtype=int32)"
      ]
     },
     "metadata": {},
     "output_type": "display_data"
    }
   ],
   "source": [
    "# Finalize the y_train & y_test data into a trainable array\n",
    "# Reshape into vertical vectors for use in Sequential Model algorithm\n",
    "\n",
    "#y_train = y_train['Signal'].values.astype(\"int32\")\n",
    "#y_train = y_train.reshape(-1,1).astype(\"int32\")\n",
    "y_train = y_train.reshape(-1,1).astype(\"int32\")\n",
    "\n",
    "#y_test = y_test['Signal'].values.astype(\"int32\")\n",
    "y_test = y_test.reshape(-1,1).astype(\"int32\")\n",
    "\n",
    "\n",
    "display((f\"Number of final X_test features to run into ANN: {len(X_test.columns)}.\"))\n",
    "display(y_train[0:10])\n",
    "display(y_test[0:10])"
   ]
  },
  {
   "cell_type": "code",
   "execution_count": 27,
   "id": "a43fc965-a166-4582-a38d-1a0295701982",
   "metadata": {},
   "outputs": [
    {
     "data": {
      "text/plain": [
       "'X_train_scaled shape: (3043, 10)'"
      ]
     },
     "metadata": {},
     "output_type": "display_data"
    },
    {
     "data": {
      "text/plain": [
       "'X_train_scaled shape: (989, 10)'"
      ]
     },
     "metadata": {},
     "output_type": "display_data"
    }
   ],
   "source": [
    "# Create the StandardScaler instance\n",
    "X_scaler = MinMaxScaler(feature_range=(0,1))\n",
    "#X_train_scaled = pd.DataFrame(X_scaler.fit_transform(X_train),columns =X_train.columns)\n",
    "#X_test_scaled = pd.DataFrame(X_scaler.fit_transform(X_test),columns =X_test.columns)\n",
    "\n",
    "# Fit the scaler\n",
    "X_scaler.fit(X_train)\n",
    "\n",
    "# Scale the data \n",
    "X_train_scaled = X_scaler.transform(X_train)\n",
    "X_test_scaled = X_scaler.transform(X_test)\n",
    "\n",
    "# Display X_train_scaled & X_test_scaled shapes\n",
    "display(f\"X_train_scaled shape: {X_train_scaled.shape}\")\n",
    "display(f\"X_train_scaled shape: {X_test_scaled.shape}\")"
   ]
  },
  {
   "cell_type": "code",
   "execution_count": 28,
   "id": "933fe830-342a-467c-843f-b800c499b729",
   "metadata": {},
   "outputs": [
    {
     "data": {
      "text/plain": [
       "7"
      ]
     },
     "execution_count": 28,
     "metadata": {},
     "output_type": "execute_result"
    }
   ],
   "source": [
    "(X_test_scaled.shape[1]-3)"
   ]
  },
  {
   "cell_type": "code",
   "execution_count": 29,
   "id": "c36fee81-d204-4e52-b7a4-2961126d1ae1",
   "metadata": {},
   "outputs": [
    {
     "data": {
      "text/plain": [
       "989"
      ]
     },
     "execution_count": 29,
     "metadata": {},
     "output_type": "execute_result"
    }
   ],
   "source": [
    "X_test_scaled.shape[0]"
   ]
  },
  {
   "cell_type": "code",
   "execution_count": 30,
   "id": "4a806064-2caa-4aa6-9ef5-c980c5bd6fe0",
   "metadata": {},
   "outputs": [
    {
     "name": "stdout",
     "output_type": "stream",
     "text": [
      "X_train_scaled shape: 3043.\n",
      "\n",
      "'X_train_scaled' --> transformed into 'x_trained_scaled' \n",
      "x_trained_scaled shape: (3033, 10, 7)\n",
      "y_train shape: (3013, 1)\n"
     ]
    }
   ],
   "source": [
    "# Backtesting Setup for Training Data\n",
    "# x = list of the number of features to be provided from the data to the model\n",
    "x_train_scaled = []\n",
    "\n",
    "# Setting backcandles for backtesting/short-term memory recursive setup\n",
    "# Backcandles 10 candles (closing prices) back in time to predict the next days\n",
    "# where j = number of X features to be included in test\n",
    "# where i = number the backcandles grouping represents through all index rows \n",
    "print(f'X_train_scaled shape: {X_train_scaled.shape[0]}.')\n",
    "for j in range((X_train_scaled.shape[1]-3)): # range is the number of input columns counting from 1->j[-1], i.e in this case range = 11\n",
    "    x_train_scaled.append([])\n",
    "    for i in range(backcandles, X_train_scaled.shape[0]):\n",
    "        x_train_scaled[j].append(X_train_scaled[i-backcandles:i,j])\n",
    "        \n",
    "x_train_scaled=np.moveaxis(x_train_scaled, [0], [2])\n",
    "\n",
    "x_train_scaled = np.array(x_train_scaled)\n",
    "\n",
    "print()\n",
    "print(\"'X_train_scaled' --> transformed into 'x_trained_scaled' \")\n",
    "print(f'x_trained_scaled shape: {x_train_scaled.shape}')\n",
    "print(f'y_train shape: {y_train.shape}')"
   ]
  },
  {
   "cell_type": "code",
   "execution_count": null,
   "id": "b03dc93b-8350-42ab-8a72-9687c2e563c7",
   "metadata": {},
   "outputs": [],
   "source": [
    "# Backtesting Setup for Testing Data\n",
    "# x = list of the number of features to be provided from the data to the model\n",
    "x_test_scaled = []\n",
    "\n",
    "# Setting backcandles for backtesting/short-term memory recursive setup\n",
    "# Backcandles 10 candles (closing prices) back in time to predict the next days\n",
    "# where j = number of X features to be included in test\n",
    "# where i = number the backcandles grouping represents through all index rows \n",
    "print(X_test_scaled.shape[0])\n",
    "for j in range((X_test_scaled.shape[1]-3)): # range is the number of input columns counting from 1->j[-1], i.e in this case range = 11\n",
    "    x_test_scaled.append([])\n",
    "    for i in range(backcandles, X_test_scaled.shape[0]):\n",
    "        x_test_scaled[j].append(X_test_scaled[i-backcandles:i,j])\n",
    "        \n",
    "x_test_scaled=np.moveaxis(x_test_scaled, [0], [2])\n",
    "\n",
    "x_test_scaled = np.array(x_test_scaled)\n",
    "\n",
    "print()\n",
    "print(\"'X_test_scaled' --> transformed into 'x_test_scaled' \")\n",
    "print(f'x_test_scaled shape: {x_test_scaled.shape}')\n",
    "print(f'y_test_scaled shape: {y_test.shape}')"
   ]
  },
  {
   "cell_type": "markdown",
   "id": "7768970e-04dd-4676-8638-82c5a0dc092f",
   "metadata": {},
   "source": [
    "## <i> iii.) Constructing the LSTM Model Using Sequential Model & LSTM Module</i>"
   ]
  },
  {
   "cell_type": "markdown",
   "id": "5e987790-8a80-489b-941a-c2e107ac5e79",
   "metadata": {},
   "source": [
    "### <i> Defining the Input Parameters, Compile & Fit LSTM: </i>"
   ]
  },
  {
   "cell_type": "code",
   "execution_count": null,
   "id": "484f7a44-6f43-4607-8b11-002d4782982a",
   "metadata": {},
   "outputs": [],
   "source": [
    "from keras import optimizers\n",
    "from keras.callbacks import History\n",
    "from keras.models import Model\n",
    "from keras.layers import Dense, Dropout, LSTM, Input, Activation, concatenate\n",
    "\n",
    "# Define LSTM Input Parameters\n",
    "lstm_input = Input(shape=(backcandles, (X_test_scaled.shape[1]-3)), name='lstm_input')\n",
    "inputs = LSTM(30, name='first_layer')(lstm_input)\n",
    "\n",
    "# Define Standard Hidden Layers \n",
    "inputs = Dense(1, name='dense_layer')(inputs)\n",
    "\n",
    "# Define Output Layers\n",
    "output = Activation('linear', name='output')(inputs)\n",
    "\n",
    "# Define/Construct Model\n",
    "nn = Model(inputs=lstm_input, outputs=output)\n",
    "\n",
    "# Instantiate the Adam Optimizer\n",
    "adam = optimizers.Adam()\n",
    "\n",
    "# Summary Statistics of the LSTM \n",
    "nn.summary()"
   ]
  },
  {
   "cell_type": "code",
   "execution_count": null,
   "id": "c8f924f0-e32d-4fa9-af14-984b2c0f2b9c",
   "metadata": {},
   "outputs": [],
   "source": [
    "# Compile Model\n",
    "nn.compile(optimizer=adam, loss='mse', metrics=[\"accuracy\"])\n",
    "\n",
    "# Fit the LSTM\n",
    "print(\"Fit model on X_train_scaled data\")                                                  \n",
    "fit_model = nn.fit(x=x_train_scaled, y=y_train, batch_size=64, epochs=50, shuffle=True, verbose=2)"
   ]
  },
  {
   "cell_type": "code",
   "execution_count": null,
   "id": "cf53edb1-fe0d-4c21-8f8d-59fdaa0e88a8",
   "metadata": {},
   "outputs": [],
   "source": [
    "# Plot the Output of the fit_model history\n",
    "fig, ax = plt.subplots(1) # Creates figure fig and add an axes, ax.\n",
    "fig2, ax2 = plt.subplots(1) # Another figure\n",
    "\n",
    "ax.set_title(f' ANN LSTM ((Linear Output Act.) - {algoData_asset} Accuracy Plot')\n",
    "ax.plot(fit_model.history['accuracy'], label='train')\n",
    "fig.savefig(f'../Datasets/algoData_LSTM_results/{algoData_asset}_LSTM_accuracy_.png')\n",
    "\n",
    "\n",
    "ax2.set_title(f' ANN LSTM (Linear Output Act.) - {algoData_asset} Loss Plot')\n",
    "ax2.plot(fit_model.history['loss'], label='train')\n",
    "fig2.savefig(f'../Datasets/algoData_LSTM_results/{algoData_asset}_LSTM_loss_.png')"
   ]
  },
  {
   "cell_type": "code",
   "execution_count": null,
   "id": "b6468797-daf9-4bf1-91f7-8618833031a3",
   "metadata": {},
   "outputs": [],
   "source": [
    "# Evaluate the model using testing data\n",
    "model_loss, model_accuracy = nn.evaluate(x_test_scaled, y_test, verbose=2)\n",
    "\n",
    "# Display evaluation results\n",
    "print(f\"Loss: {model_loss}, Accuracy: {model_accuracy}\")"
   ]
  },
  {
   "cell_type": "code",
   "execution_count": null,
   "id": "b8c5f2cd-1feb-46ba-a7a9-791239103489",
   "metadata": {},
   "outputs": [],
   "source": [
    "# Predict on X_test, y_test datasets\n",
    "\n",
    "print(\"Evaluate model on X_test_scaled data\")\n",
    "#predictions = nn.predict(X_test_scaled).astype(\"int32\")\n",
    "predictions = (nn.predict(x_test_scaled))"
   ]
  },
  {
   "cell_type": "code",
   "execution_count": null,
   "id": "1b8e6ce5-d066-45a7-8dcf-d28e28c93ca1",
   "metadata": {},
   "outputs": [],
   "source": [
    "display(predictions[0:40])"
   ]
  },
  {
   "cell_type": "code",
   "execution_count": null,
   "id": "a09e1ae1-8726-4cc9-bd99-95dd23c2bbde",
   "metadata": {},
   "outputs": [],
   "source": [
    "y_test = y_test.flatten()"
   ]
  },
  {
   "cell_type": "code",
   "execution_count": null,
   "id": "cd4123bd-bf6f-405f-9346-6c328d9c493e",
   "metadata": {},
   "outputs": [],
   "source": [
    "results = pd.DataFrame({\"predictions\": predictions.flatten(), \"actual\": y_test.flatten()})\n",
    "#results = pd.DataFrame({\"predictions\": predictions.ravel(), \"actual\": y_test}, index=[0])\n",
    "display(results.value_counts())\n",
    "display(results.head(40))\n",
    "display(results.tail(40))"
   ]
  },
  {
   "cell_type": "code",
   "execution_count": null,
   "id": "6737c9a1-0d4d-4961-b3cf-990d9e6f70ec",
   "metadata": {},
   "outputs": [],
   "source": [
    "# Function to convert all -1 to 0\n",
    "\n",
    "#def convert_back_to_neg(y_df):\n",
    "#    for i in (range(len(y_df))):\n",
    "#        if (y_df['predictions'][i] == 0):\n",
    "#            y_df['predictions'][i] = -1\n",
    "#        \n",
    "#    return y_df"
   ]
  },
  {
   "cell_type": "code",
   "execution_count": null,
   "id": "12533058-ca8d-4a78-afea-95ade77abc80",
   "metadata": {},
   "outputs": [],
   "source": [
    "#results.copy()\n",
    "#results = convert_back_to_neg(results)"
   ]
  },
  {
   "cell_type": "code",
   "execution_count": null,
   "id": "12cf64f5-092a-4486-936b-4f0f45d28a4e",
   "metadata": {},
   "outputs": [],
   "source": [
    "results"
   ]
  },
  {
   "cell_type": "code",
   "execution_count": null,
   "id": "b2ddde32-cc8f-4dd2-b3e8-5f3140c070f5",
   "metadata": {},
   "outputs": [],
   "source": [
    "results.value_counts()"
   ]
  },
  {
   "cell_type": "code",
   "execution_count": null,
   "id": "cf0c2c58-25bf-453a-be40-f0721cf4f6d5",
   "metadata": {},
   "outputs": [],
   "source": [
    "# Get the original Actual Returns column from the original imported dataset\n",
    "\n",
    "df_final = df[['ActualReturns']]\n",
    "df_final = df_final.loc[training_end:]\n",
    "df_final"
   ]
  },
  {
   "cell_type": "code",
   "execution_count": null,
   "id": "3e6c3f4e-56c4-45b5-93c4-59109a3b7029",
   "metadata": {},
   "outputs": [],
   "source": [
    "# Create function to compile cumulative returns for Artificial Neural Network Predicted y_test values\n",
    "\n",
    "def annReturns(results, X_test):\n",
    "\n",
    "    # Make emtpy dataframe to store actual returns, predictions & cumulative returns\n",
    "    \n",
    "    # Inititialize first return 0 so cumulative ret begins at base 1\n",
    "    #annData['Actual Returns'][0] = 0\n",
    "    \n",
    "    annData = pd.DataFrame()\n",
    "    annData.index = X_test.index\n",
    "    results.index = X_test.index\n",
    "    annData['Prediction_Signal'] = results['predictions'] \n",
    "    annData['Actual_Returns'] = df_final['ActualReturns'].values\n",
    "    annData['annStrategyReturns'] = annData['Actual_Returns'] * annData['Prediction_Signal'] \n",
    "    annData['cumActual_Returns'] = (1 + annData['Actual_Returns']).cumprod()\n",
    "    annData['cumANNStrategyReturns'] = (1 + annData['annStrategyReturns']).cumprod()\n",
    "    \n",
    "    returns = annData\n",
    "    \n",
    "    return returns"
   ]
  },
  {
   "cell_type": "code",
   "execution_count": null,
   "id": "6b3b0933-fbb2-40db-8b40-46f95239bff9",
   "metadata": {},
   "outputs": [],
   "source": [
    "# Run annReturns Function and display sample final cumulative returns dataframe\n",
    "\n",
    "returns_df = annReturns(results, X_test)\n",
    "display(returns_df.head(5))\n",
    "display(returns_df.tail(5))"
   ]
  },
  {
   "cell_type": "code",
   "execution_count": null,
   "id": "864d809b-8a1e-4b10-85d9-72dd0009942f",
   "metadata": {},
   "outputs": [],
   "source": [
    "# Save Results to External .csv File\n",
    "# Save Finalized Output 'returns_df' dataframe\n",
    "\n",
    "returns_df.to_csv(f'../Datasets/algoData_LSTM_results/{algoData_asset}_ANN_results.csv', index=True)"
   ]
  }
 ],
 "metadata": {
  "kernelspec": {
   "display_name": "dev",
   "language": "python",
   "name": "dev"
  },
  "language_info": {
   "codemirror_mode": {
    "name": "ipython",
    "version": 3
   },
   "file_extension": ".py",
   "mimetype": "text/x-python",
   "name": "python",
   "nbconvert_exporter": "python",
   "pygments_lexer": "ipython3",
   "version": "3.7.13"
  }
 },
 "nbformat": 4,
 "nbformat_minor": 5
}
